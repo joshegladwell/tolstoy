{
 "cells": [
  {
   "cell_type": "code",
   "execution_count": 1,
   "id": "a3f23174",
   "metadata": {},
   "outputs": [],
   "source": [
    "import matplotlib.pyplot as plt\n",
    "import requests\n",
    "import nltk\n",
    "from bs4 import BeautifulSoup\n",
    "import re"
   ]
  },
  {
   "cell_type": "code",
   "execution_count": 15,
   "id": "bbca55e2",
   "metadata": {},
   "outputs": [],
   "source": [
    "url = 'http://tolstoy.ru/online/90/01/'\n",
    "response = requests.get(url)\n",
    "\n",
    "soup = BeautifulSoup(response.content, \"html.parser\")\n",
    "text = soup.get_text()\n",
    "words = re.findall('\\w+', text)\n",
    "\n",
    "# Change all words to lowercase\n",
    "lowered = []\n",
    "for word in words:\n",
    "    lowered.append(word.lower())\n",
    "    \n",
    "clean_text = \" \".join(text.split()) # Replace all whitespace (\\n, \\t, \" \", \"  \", etc) with \" \"\n",
    "\n"
   ]
  },
  {
   "cell_type": "code",
   "execution_count": 9,
   "id": "a4ff00bd",
   "metadata": {},
   "outputs": [],
   "source": [
    "# Take everything starting from ['глава', 'i'], ['i'], or ['предисловие'] to ['печатные', 'варианты'] or ['варианты']\n",
    "\n"
   ]
  }
 ],
 "metadata": {
  "kernelspec": {
   "display_name": "Python 3 (ipykernel)",
   "language": "python",
   "name": "python3"
  },
  "language_info": {
   "codemirror_mode": {
    "name": "ipython",
    "version": 3
   },
   "file_extension": ".py",
   "mimetype": "text/x-python",
   "name": "python",
   "nbconvert_exporter": "python",
   "pygments_lexer": "ipython3",
   "version": "3.9.13"
  }
 },
 "nbformat": 4,
 "nbformat_minor": 5
}
