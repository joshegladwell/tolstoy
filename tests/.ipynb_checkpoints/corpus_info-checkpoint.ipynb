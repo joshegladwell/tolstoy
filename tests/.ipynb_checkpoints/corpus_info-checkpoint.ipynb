{
 "cells": [
  {
   "cell_type": "code",
   "execution_count": null,
   "id": "c4556069",
   "metadata": {},
   "outputs": [],
   "source": []
  },
  {
   "cell_type": "code",
   "execution_count": null,
   "id": "51c49f97",
   "metadata": {},
   "outputs": [],
   "source": []
  },
  {
   "cell_type": "markdown",
   "id": "eeeb1d1b",
   "metadata": {},
   "source": [
    "# Script"
   ]
  },
  {
   "cell_type": "code",
   "execution_count": 4,
   "id": "abe2d4bf",
   "metadata": {},
   "outputs": [],
   "source": [
    "import requests\n",
    "from bs4 import BeautifulSoup\n",
    "\n",
    "def extract_titles():\n",
    "    # Set URL of the website with contents of each volume\n",
    "    titles_url = 'http://tolstoy.ru/creativity/90-volume-collection-of-the-works/?arrFilter_pf%5BCATEGORY%5D%5B%5D=&set_filter=%D0%A4%D0%B8%D0%BB%D1%8C%D1%82%D1%80&set_filter=Y'\n",
    "\n",
    "    # Scrape volume content info\n",
    "    titles_response = requests.get(titles_url)\n",
    "    titles_soup = BeautifulSoup(titles_response.content, \"html.parser\")\n",
    "\n",
    "    # Organize info into a list\n",
    "    titles_text = []\n",
    "    for vol_title in titles_soup.find_all('li')[114:-9]:\n",
    "        titles_text.append(vol_title.text.split())\n",
    "\n",
    "    # Clean list into a dictionary\n",
    "    titles = []\n",
    "    vol_nums = []\n",
    "\n",
    "    for t in titles_text:\n",
    "        titles.append(\" \".join(t[2:]))\n",
    "        vol_nums.append(int(t[1]))\n",
    "\n",
    "    # Return dictionary\n",
    "    return dict(zip(vol_nums, titles))"
   ]
  }
 ],
 "metadata": {
  "kernelspec": {
   "display_name": "Python 3 (ipykernel)",
   "language": "python",
   "name": "python3"
  },
  "language_info": {
   "codemirror_mode": {
    "name": "ipython",
    "version": 3
   },
   "file_extension": ".py",
   "mimetype": "text/x-python",
   "name": "python",
   "nbconvert_exporter": "python",
   "pygments_lexer": "ipython3",
   "version": "3.9.13"
  }
 },
 "nbformat": 4,
 "nbformat_minor": 5
}
