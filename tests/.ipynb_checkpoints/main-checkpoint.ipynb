{
 "cells": [
  {
   "cell_type": "code",
   "execution_count": null,
   "id": "40a5add6",
   "metadata": {},
   "outputs": [],
   "source": [
    "import matplotlib.pyplot as plt\n",
    "import requests\n",
    "import nltk\n",
    "from bs4 import BeautifulSoup\n",
    "import re"
   ]
  },
  {
   "cell_type": "code",
   "execution_count": null,
   "id": "876bb13c",
   "metadata": {},
   "outputs": [],
   "source": [
    "url = 'http://tolstoy.ru/online/90/01/'\n",
    "response = requests.get(url)\n",
    "\n",
    "soup = BeautifulSoup(response.content, \"html.parser\")\n",
    "text = soup.get_text()\n",
    "words = re.findall('\\w+', text)\n",
    "\n",
    "# Change all words to lowercase\n",
    "lowered = []\n",
    "for word in words:\n",
    "    lowered.append(word.lower())\n",
    "    \n",
    "clean_text = \" \".join(text.split()) # Replace all whitespace (\\n, \\t, \" \", \"  \", etc) with \" \"\n"
   ]
  },
  {
   "cell_type": "code",
   "execution_count": null,
   "id": "43ebc721",
   "metadata": {},
   "outputs": [],
   "source": []
  },
  {
   "cell_type": "markdown",
   "id": "27c423ef",
   "metadata": {},
   "source": [
    "# Drafting Script"
   ]
  },
  {
   "cell_type": "code",
   "execution_count": 2,
   "id": "c797e8b7",
   "metadata": {},
   "outputs": [
    {
     "name": "stdout",
     "output_type": "stream",
     "text": [
      "Volume 1 scraped\n",
      "Volume 2 scraped\n",
      "Volume 3 scraped\n",
      "Volume 4 scraped\n",
      "Volume 5 scraped\n"
     ]
    }
   ],
   "source": [
    "# Create volume object\n",
    "import requests\n",
    "import nltk\n",
    "from bs4 import BeautifulSoup\n",
    "import re\n",
    "import pandas as pd\n",
    "\n",
    "# Import scraper function\n",
    "import scraper\n",
    "\n",
    "# Read in volume content information\n",
    "import corpus_info\n",
    "title_dict = corpus_info.extract_titles()\n",
    "urls = corpus_info.generate_urls()\n",
    "\n",
    "# Cycle through URLs to scrape text\n",
    "volumes = []\n",
    "for url in urls[:5]: # Using 5 for test, usually use 45 for publications\n",
    "    vol = scraper.tolstoy_scraper(url)\n",
    "    \n",
    "    volumes.append([vol.volnum, title_dict[vol.volnum], vol.text, vol.tokens])\n",
    "    print(\"Volume \" + str(vol.volnum) + \" scraped\")\n",
    "\n",
    "# Create dataframe\n",
    "cols = ['volume', 'title', 'text', 'text_tokenized'] # TODO: add volume type and years\n",
    "corpus_df = pd.DataFrame(volumes, columns=cols)\n",
    "\n",
    "# Export as csv\n",
    "# corpus_df.to_csv('tolstoy_corpus.csv', index=False)"
   ]
  },
  {
   "cell_type": "code",
   "execution_count": null,
   "id": "608ea038",
   "metadata": {},
   "outputs": [],
   "source": []
  },
  {
   "cell_type": "code",
   "execution_count": null,
   "id": "2e19032f",
   "metadata": {},
   "outputs": [],
   "source": []
  },
  {
   "cell_type": "code",
   "execution_count": null,
   "id": "79bd1738",
   "metadata": {},
   "outputs": [],
   "source": []
  }
 ],
 "metadata": {
  "kernelspec": {
   "display_name": "Python 3 (ipykernel)",
   "language": "python",
   "name": "python3"
  },
  "language_info": {
   "codemirror_mode": {
    "name": "ipython",
    "version": 3
   },
   "file_extension": ".py",
   "mimetype": "text/x-python",
   "name": "python",
   "nbconvert_exporter": "python",
   "pygments_lexer": "ipython3",
   "version": "3.9.13"
  }
 },
 "nbformat": 4,
 "nbformat_minor": 5
}
