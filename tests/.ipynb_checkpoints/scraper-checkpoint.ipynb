{
 "cells": [
  {
   "cell_type": "markdown",
   "id": "618cd8fc",
   "metadata": {},
   "source": [
    "# Script"
   ]
  },
  {
   "cell_type": "code",
   "execution_count": null,
   "id": "ef82f87f",
   "metadata": {},
   "outputs": [],
   "source": [
    "import nltk\n",
    "import re\n",
    "import pandas as pd\n",
    "\n",
    "# Create volume object\n",
    "class Volume:\n",
    "    def __init__(self, volnum, text, tokens):\n",
    "        self.text = text\n",
    "        self.tokens = tokens\n",
    "        self.volnum = volnum\n",
    "\n",
    "# Import scraper function\n",
    "import scraper\n",
    "\n",
    "# Read in volume content information\n",
    "import corpus_info\n",
    "title_dict = corpus_info.extract_titles()\n",
    "urls = corpus_info.generate_urls()\n",
    "\n",
    "# Cycle through URLs to scrape text\n",
    "volumes = []\n",
    "for url in urls[:5]:\n",
    "    vol = scraper.tolstoy_scraper(url)\n",
    "    \n",
    "    volumes.append([vol.volnum, title_dict[vol.volnum], vol.text, vol.tokens])\n",
    "\n",
    "# Create dataframe\n",
    "cols = ['volume', 'title', 'text', 'text_tokenized'] # TODO: add volume type and years\n",
    "corpus_df = pd.DataFrame(volumes, columns=cols)\n",
    "\n",
    "# Export as csv\n",
    "# corpus_df.to_csv('tolstoy_corpus')"
   ]
  }
 ],
 "metadata": {
  "kernelspec": {
   "display_name": "Python 3 (ipykernel)",
   "language": "python",
   "name": "python3"
  },
  "language_info": {
   "codemirror_mode": {
    "name": "ipython",
    "version": 3
   },
   "file_extension": ".py",
   "mimetype": "text/x-python",
   "name": "python",
   "nbconvert_exporter": "python",
   "pygments_lexer": "ipython3",
   "version": "3.9.13"
  }
 },
 "nbformat": 4,
 "nbformat_minor": 5
}
